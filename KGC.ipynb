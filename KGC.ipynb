{
 "cells": [
  {
   "cell_type": "markdown",
   "metadata": {},
   "source": [
    "# UniCredit Training Camp 2021 - Knowledge Graph Completion\n",
    "\n",
    "## TEAM 'EST'\n",
    "### Authors:  Elisa Valeriani, 1783955 - Stefania Sferragatta, 1958081 -  Tansel Simsek,  1942297\n"
   ]
  },
  {
   "cell_type": "code",
   "execution_count": 1,
   "metadata": {},
   "outputs": [],
   "source": [
    "from scipy.stats import loguniform\n",
    "from sklearn import preprocessing\n",
    "from sklearn.linear_model import LogisticRegression\n",
    "from sklearn.model_selection import RandomizedSearchCV\n",
    "from sklearn.ensemble import RandomForestClassifier\n",
    "from sklearn import metrics\n",
    "from sklearn.metrics import confusion_matrix\n",
    "import pandas as pd\n",
    "import numpy as np\n",
    "import os\n",
    "import time"
   ]
  },
  {
   "cell_type": "code",
   "execution_count": null,
   "metadata": {},
   "outputs": [],
   "source": [
    "#paths to files\n",
    "base_path = '/content/gdrive/MyDrive/datasets/unicredittrainingcamp/'\n",
    "sep = ','\n",
    "dataset_name = ''\n",
    "trainset_path = base_path + dataset_name + 'kg_train.csv'\n",
    "validset_path = base_path + dataset_name + 'kg_validation.csv'\n",
    "testset_path = base_path + 'kg_test_nolabel.csv'\n",
    "trainvalidset_path = base_path + dataset_name + 'kg_pykeen_trainvalidation.tsv'"
   ]
  },
  {
   "cell_type": "code",
   "execution_count": null,
   "metadata": {},
   "outputs": [],
   "source": [
    "# function for splitting the content of the triples in source, relation, target\n",
    "def make_3_columns(base_path, next_path , name_csv, label_yes = True, take_label = False):\n",
    "    df = pd.read_csv(base_path + next_path)\n",
    "    if label_yes:\n",
    "        df = df[df.Label == 1]\n",
    "    df = pd.concat([df, df.Triple.str.split(expand = True)], axis = 1)\n",
    "    if label_yes:\n",
    "        df = df.rename(columns={0: 'source', 1: 'relation', 2 : 'target', 'Label': 'label'})\n",
    "    else:\n",
    "        df = df.rename(columns={0: 'source', 1: 'relation', 2 : 'target'})\n",
    "    df['source'] = pd.to_numeric(df['source'])\n",
    "    df['target'] = pd.to_numeric(df['target'])\n",
    "    if take_label:\n",
    "        df = df[['source', 'relation', 'target',  'Label']]\n",
    "    else: \n",
    "        df = df[['source', 'relation', 'target']]\n",
    "    # save the result into tsv file\n",
    "    with open(base_path + name_csv, 'w') as f:\n",
    "        df.to_csv(f, header=False, index=False, sep='\\t' )"
   ]
  },
  {
   "cell_type": "code",
   "execution_count": null,
   "metadata": {},
   "outputs": [],
   "source": [
    "#create the validation and test set with the label and the test set without the label\n",
    "make_3_columns(base_path, 'kg_validation.csv', 'validation_final_label.tsv', False, True)\n",
    "make_3_columns(base_path, 'kg_train.csv', 'train_final_label.tsv', False, True)\n",
    "make_3_columns(base_path, 'kg_test_nolabel.csv', 'test_final.tsv', False)"
   ]
  },
  {
   "cell_type": "code",
   "execution_count": null,
   "metadata": {},
   "outputs": [],
   "source": [
    "#create the validation and test set without the label\n",
    "make_3_columns(base_path, 'kg_validation.csv', 'validation_final.tsv', False, False)\n",
    "make_3_columns(base_path, 'kg_train.csv', 'train_final.tsv', False, False)"
   ]
  },
  {
   "cell_type": "code",
   "execution_count": null,
   "metadata": {},
   "outputs": [],
   "source": [
    "trainset_path = base_path + dataset_name + 'train_final.tsv'\n",
    "validset_path = base_path + dataset_name + 'validation_final.tsv'"
   ]
  },
  {
   "cell_type": "code",
   "execution_count": null,
   "metadata": {},
   "outputs": [],
   "source": [
    "#load triples from training+validation-set file\n",
    "all_triples = TriplesFactory.from_path(trainvalidset_path)\n",
    "#load triples from training-set file and validation-set file\n",
    "train_triples = TriplesFactory.from_path(trainset_path)\n",
    "valid_triples = TriplesFactory.from_path(validset_path)"
   ]
  },
  {
   "cell_type": "code",
   "execution_count": null,
   "metadata": {},
   "outputs": [],
   "source": [
    "#train embeddings\n",
    "result = pipeline( \n",
    "    training=train_triples,\n",
    "    testing=valid_triples,\n",
    "    model='TransR',\n",
    "    loss='MSELoss', \n",
    "    #model configuration\n",
    "    model_kwargs = dict(\n",
    "        embedding_dim=200 #dimensionality of the netity embeddings; default: 50\n",
    "    ),\n",
    "    loss_kwargs = dict(), #loss configuration\n",
    "    training_loop='SLCWATrainingLoop', \n",
    "    regularizer='LpRegularizer', \n",
    "    #regularizer configuration\n",
    "    regularizer_kwargs=dict(\n",
    "        p=2.0, #default\n",
    "        weight=1.0 #default\n",
    "    ),\n",
    "    optimizer='SGD', \n",
    "    #optimizer configuration\n",
    "    optimizer_kwargs = dict(\n",
    "        lr=0.1\n",
    "    ),\n",
    "    negative_sampler='Basic', \n",
    "    dimensions=200, #default: 50\n",
    "    #training configuration\n",
    "    training_kwargs=dict(\n",
    "        num_epochs=200,\n",
    "        use_tqdm_batch=False,\n",
    "    ),  \n",
    "    #runtime configuration\n",
    "    random_seed=1234,\n",
    "    device='gpu'\n",
    ")"
   ]
  },
  {
   "cell_type": "code",
   "execution_count": null,
   "metadata": {},
   "outputs": [],
   "source": [
    "#save result to file (model and evaluation)\n",
    "result_path = base_path + 'results'\n",
    "result.save_to_directory(result_path)"
   ]
  },
  {
   "cell_type": "code",
   "execution_count": null,
   "metadata": {},
   "outputs": [],
   "source": [
    "#extract entity embeddings\n",
    "entity_ids = torch.LongTensor(range(all_triples.num_entities))\n",
    "e_emb = result.model.entity_embeddings\n",
    "e_emb.cpu()\n",
    "e_emb_numpy = e_emb(entity_ids).detach().numpy()\n",
    "entity2embedding = {}\n",
    "for eid in range(all_triples.num_entities):\n",
    "    e = all_triples.entity_id_to_label[eid]\n",
    "    entity2embedding[e] = list(e_emb_numpy[eid])"
   ]
  },
  {
   "cell_type": "code",
   "execution_count": null,
   "metadata": {},
   "outputs": [],
   "source": [
    "#extract relation embeddings\n",
    "relation_ids = torch.LongTensor(range(all_triples.num_relations))\n",
    "r_emb = result.model.relation_embeddings\n",
    "r_emb.cpu()\n",
    "r_emb_numpy = r_emb(relation_ids).detach().numpy()\n",
    "relation2embedding = {}\n",
    "for rid in range(all_triples.num_relations):\n",
    "    r = all_triples.relation_id_to_label[rid]\n",
    "    relation2embedding[r] = list(r_emb_numpy[rid])"
   ]
  },
  {
   "cell_type": "code",
   "execution_count": null,
   "metadata": {},
   "outputs": [],
   "source": [
    "# function for computing the embedding\n",
    "def create_embeddings(df,relation2embedding,entity2embedding):\n",
    "    full_embedding_list = []\n",
    "\n",
    "    for row in range(df.shape[0]):\n",
    "        s=df[0][row]\n",
    "        r=df[1][row]\n",
    "        t=df[2][row]\n",
    "        full_embedding = entity2embedding[str(s)] + relation2embedding[str(r)] + entity2embedding[str(t)]\n",
    "        full_embedding_list.append(full_embedding)  \n",
    "\n",
    "    df['embedding']= full_embedding_list\n",
    "    return df"
   ]
  },
  {
   "cell_type": "markdown",
   "metadata": {},
   "source": [
    "Creation of the embedding for the training dataset"
   ]
  },
  {
   "cell_type": "code",
   "execution_count": null,
   "metadata": {},
   "outputs": [],
   "source": [
    "df_train = pd.read_csv('train_final_label.tsv', sep='\\t', header=None)"
   ]
  },
  {
   "cell_type": "code",
   "execution_count": null,
   "metadata": {},
   "outputs": [],
   "source": [
    "emb_train = create_embeddings(df_train,relation2embedding,entity2embedding)"
   ]
  },
  {
   "cell_type": "code",
   "execution_count": null,
   "metadata": {},
   "outputs": [],
   "source": [
    "#save the result into a new csv file\n",
    "with open('/content/gdrive/MyDrive/unicredittrainingcamp/' + 'df_train_emb.csv', 'w') as f:\n",
    "    emb_train.to_csv(f, header=False, index=False)"
   ]
  },
  {
   "cell_type": "markdown",
   "metadata": {},
   "source": [
    "Creation of the embedding for the validation dataset"
   ]
  },
  {
   "cell_type": "code",
   "execution_count": null,
   "metadata": {},
   "outputs": [],
   "source": [
    "df_val = pd.read_csv('/content/gdrive/MyDrive/unicredittrainingcamp/validation_final_label.tsv', sep='\\t', header=None)"
   ]
  },
  {
   "cell_type": "code",
   "execution_count": null,
   "metadata": {},
   "outputs": [],
   "source": [
    "emb_val = create_embeddings(df_val,relation2embedding,entity2embedding)"
   ]
  },
  {
   "cell_type": "code",
   "execution_count": null,
   "metadata": {},
   "outputs": [],
   "source": [
    "with open('/content/gdrive/MyDrive/unicredittrainingcamp/' + 'df_val_emb.csv', 'w') as f:\n",
    "    emb_val.to_csv(f, header=False, index=False )"
   ]
  },
  {
   "cell_type": "markdown",
   "metadata": {},
   "source": [
    "Creation of the embedding for the test dataset"
   ]
  },
  {
   "cell_type": "code",
   "execution_count": null,
   "metadata": {},
   "outputs": [],
   "source": [
    "df_test = pd.read_csv('/content/gdrive/MyDrive/unicredittrainingcamp/test_final.tsv', sep='\\t', header=None)"
   ]
  },
  {
   "cell_type": "code",
   "execution_count": null,
   "metadata": {},
   "outputs": [],
   "source": [
    "emb_test = create_embeddings(df_test,relation2embedding,entity2embedding)"
   ]
  },
  {
   "cell_type": "code",
   "execution_count": null,
   "metadata": {},
   "outputs": [],
   "source": [
    "with open('/content/gdrive/MyDrive/unicredittrainingcamp/' + 'df_test_emb.csv', 'w') as f:\n",
    "    emb_test.to_csv(f, header=False, index=False )"
   ]
  },
  {
   "cell_type": "code",
   "execution_count": 3,
   "metadata": {},
   "outputs": [],
   "source": [
    "#Load the csv creted above\n",
    "train = pd.read_csv('df_train_emb.csv', header = None)\n",
    "test = pd.read_csv('df_test_emb.csv', header = None)\n",
    "dev = pd.read_csv('df_val_emb.csv', header = None)"
   ]
  },
  {
   "cell_type": "code",
   "execution_count": 4,
   "metadata": {},
   "outputs": [],
   "source": [
    "#Rename the columns of the dataframe\n",
    "train = train.rename(columns={0: 'source', 1: 'relation', 2 : 'target', 3: 'label', 4: 'embedding'})\n",
    "dev = dev.rename(columns={0: 'source', 1: 'relation', 2 : 'target', 3: 'label', 4: 'embedding'})\n",
    "test = test.rename(columns={0: 'source', 1: 'relation', 2 : 'target', 3: 'embedding'})"
   ]
  },
  {
   "cell_type": "code",
   "execution_count": 5,
   "metadata": {},
   "outputs": [],
   "source": [
    "# #Concatenate the new columns with the embedding to the dataframe\n",
    "# def add_new_column(dataframe):\n",
    "#     new_list = []\n",
    "#     for i in range(len(dataframe)):\n",
    "#         res = dataframe['embedding'][i].strip('][').split(', ')\n",
    "#         res = [float(j) for j in res]\n",
    "#         new_list.append(res)\n",
    "#     dataframe['embedding'] = new_list\n",
    "#     df_list = dataframe['embedding'].tolist()\n",
    "#     df = pd.DataFrame(df_list)\n",
    "#     dataframe = pd.concat([dataframe, df], axis=1)\n",
    "#     dataframe = dataframe.drop(['embedding'], axis=1)\n",
    "#     return dataframe"
   ]
  },
  {
   "cell_type": "code",
   "execution_count": 6,
   "metadata": {},
   "outputs": [],
   "source": [
    "# train = add_new_column(train)\n",
    "# test = add_new_column(test)\n",
    "# dev = add_new_column(dev)"
   ]
  },
  {
   "cell_type": "code",
   "execution_count": 7,
   "metadata": {
    "scrolled": true
   },
   "outputs": [
    {
     "data": {
      "text/html": [
       "<div>\n",
       "<style scoped>\n",
       "    .dataframe tbody tr th:only-of-type {\n",
       "        vertical-align: middle;\n",
       "    }\n",
       "\n",
       "    .dataframe tbody tr th {\n",
       "        vertical-align: top;\n",
       "    }\n",
       "\n",
       "    .dataframe thead th {\n",
       "        text-align: right;\n",
       "    }\n",
       "</style>\n",
       "<table border=\"1\" class=\"dataframe\">\n",
       "  <thead>\n",
       "    <tr style=\"text-align: right;\">\n",
       "      <th></th>\n",
       "      <th>source</th>\n",
       "      <th>relation</th>\n",
       "      <th>target</th>\n",
       "      <th>label</th>\n",
       "      <th>0</th>\n",
       "      <th>1</th>\n",
       "      <th>2</th>\n",
       "      <th>3</th>\n",
       "      <th>4</th>\n",
       "      <th>5</th>\n",
       "      <th>...</th>\n",
       "      <th>420</th>\n",
       "      <th>421</th>\n",
       "      <th>422</th>\n",
       "      <th>423</th>\n",
       "      <th>424</th>\n",
       "      <th>425</th>\n",
       "      <th>426</th>\n",
       "      <th>427</th>\n",
       "      <th>428</th>\n",
       "      <th>429</th>\n",
       "    </tr>\n",
       "  </thead>\n",
       "  <tbody>\n",
       "    <tr>\n",
       "      <th>0</th>\n",
       "      <td>34881</td>\n",
       "      <td>intercommunality</td>\n",
       "      <td>14230</td>\n",
       "      <td>0</td>\n",
       "      <td>-0.077233</td>\n",
       "      <td>0.119895</td>\n",
       "      <td>-0.003629</td>\n",
       "      <td>0.017712</td>\n",
       "      <td>0.060872</td>\n",
       "      <td>0.100077</td>\n",
       "      <td>...</td>\n",
       "      <td>0.101224</td>\n",
       "      <td>-0.117935</td>\n",
       "      <td>-0.056366</td>\n",
       "      <td>0.046605</td>\n",
       "      <td>0.077758</td>\n",
       "      <td>0.098981</td>\n",
       "      <td>0.028646</td>\n",
       "      <td>-0.087241</td>\n",
       "      <td>-0.063717</td>\n",
       "      <td>-0.102795</td>\n",
       "    </tr>\n",
       "    <tr>\n",
       "      <th>1</th>\n",
       "      <td>9387</td>\n",
       "      <td>ownerOper</td>\n",
       "      <td>39573</td>\n",
       "      <td>0</td>\n",
       "      <td>0.051407</td>\n",
       "      <td>-0.097245</td>\n",
       "      <td>0.058831</td>\n",
       "      <td>-0.049638</td>\n",
       "      <td>-0.066242</td>\n",
       "      <td>-0.001903</td>\n",
       "      <td>...</td>\n",
       "      <td>0.002603</td>\n",
       "      <td>-0.082168</td>\n",
       "      <td>-0.057717</td>\n",
       "      <td>-0.085935</td>\n",
       "      <td>-0.093695</td>\n",
       "      <td>-0.003020</td>\n",
       "      <td>0.041622</td>\n",
       "      <td>0.061183</td>\n",
       "      <td>-0.107571</td>\n",
       "      <td>-0.040124</td>\n",
       "    </tr>\n",
       "    <tr>\n",
       "      <th>2</th>\n",
       "      <td>12480</td>\n",
       "      <td>coach</td>\n",
       "      <td>24064</td>\n",
       "      <td>0</td>\n",
       "      <td>-0.007626</td>\n",
       "      <td>0.077514</td>\n",
       "      <td>0.076412</td>\n",
       "      <td>0.022497</td>\n",
       "      <td>0.047771</td>\n",
       "      <td>-0.106071</td>\n",
       "      <td>...</td>\n",
       "      <td>-0.015453</td>\n",
       "      <td>0.083406</td>\n",
       "      <td>-0.036119</td>\n",
       "      <td>-0.060431</td>\n",
       "      <td>-0.011616</td>\n",
       "      <td>-0.025314</td>\n",
       "      <td>0.005912</td>\n",
       "      <td>0.083081</td>\n",
       "      <td>0.082056</td>\n",
       "      <td>0.068306</td>\n",
       "    </tr>\n",
       "    <tr>\n",
       "      <th>3</th>\n",
       "      <td>6871</td>\n",
       "      <td>branches</td>\n",
       "      <td>22010</td>\n",
       "      <td>0</td>\n",
       "      <td>-0.060748</td>\n",
       "      <td>0.065322</td>\n",
       "      <td>-0.056058</td>\n",
       "      <td>0.011380</td>\n",
       "      <td>0.103271</td>\n",
       "      <td>-0.109446</td>\n",
       "      <td>...</td>\n",
       "      <td>-0.056340</td>\n",
       "      <td>0.115712</td>\n",
       "      <td>-0.062918</td>\n",
       "      <td>-0.069767</td>\n",
       "      <td>0.070984</td>\n",
       "      <td>-0.067909</td>\n",
       "      <td>0.105280</td>\n",
       "      <td>-0.007993</td>\n",
       "      <td>-0.094237</td>\n",
       "      <td>0.042079</td>\n",
       "    </tr>\n",
       "    <tr>\n",
       "      <th>4</th>\n",
       "      <td>13789</td>\n",
       "      <td>damsire</td>\n",
       "      <td>33095</td>\n",
       "      <td>0</td>\n",
       "      <td>0.111770</td>\n",
       "      <td>0.004248</td>\n",
       "      <td>0.064284</td>\n",
       "      <td>-0.081097</td>\n",
       "      <td>0.008350</td>\n",
       "      <td>0.062000</td>\n",
       "      <td>...</td>\n",
       "      <td>0.079775</td>\n",
       "      <td>-0.012490</td>\n",
       "      <td>0.071471</td>\n",
       "      <td>-0.021408</td>\n",
       "      <td>-0.006365</td>\n",
       "      <td>-0.060582</td>\n",
       "      <td>-0.107537</td>\n",
       "      <td>0.081445</td>\n",
       "      <td>0.039402</td>\n",
       "      <td>0.005463</td>\n",
       "    </tr>\n",
       "  </tbody>\n",
       "</table>\n",
       "<p>5 rows × 434 columns</p>\n",
       "</div>"
      ],
      "text/plain": [
       "   source          relation  target  label         0         1         2  \\\n",
       "0   34881  intercommunality   14230      0 -0.077233  0.119895 -0.003629   \n",
       "1    9387         ownerOper   39573      0  0.051407 -0.097245  0.058831   \n",
       "2   12480             coach   24064      0 -0.007626  0.077514  0.076412   \n",
       "3    6871          branches   22010      0 -0.060748  0.065322 -0.056058   \n",
       "4   13789           damsire   33095      0  0.111770  0.004248  0.064284   \n",
       "\n",
       "          3         4         5  ...       420       421       422       423  \\\n",
       "0  0.017712  0.060872  0.100077  ...  0.101224 -0.117935 -0.056366  0.046605   \n",
       "1 -0.049638 -0.066242 -0.001903  ...  0.002603 -0.082168 -0.057717 -0.085935   \n",
       "2  0.022497  0.047771 -0.106071  ... -0.015453  0.083406 -0.036119 -0.060431   \n",
       "3  0.011380  0.103271 -0.109446  ... -0.056340  0.115712 -0.062918 -0.069767   \n",
       "4 -0.081097  0.008350  0.062000  ...  0.079775 -0.012490  0.071471 -0.021408   \n",
       "\n",
       "        424       425       426       427       428       429  \n",
       "0  0.077758  0.098981  0.028646 -0.087241 -0.063717 -0.102795  \n",
       "1 -0.093695 -0.003020  0.041622  0.061183 -0.107571 -0.040124  \n",
       "2 -0.011616 -0.025314  0.005912  0.083081  0.082056  0.068306  \n",
       "3  0.070984 -0.067909  0.105280 -0.007993 -0.094237  0.042079  \n",
       "4 -0.006365 -0.060582 -0.107537  0.081445  0.039402  0.005463  \n",
       "\n",
       "[5 rows x 434 columns]"
      ]
     },
     "execution_count": 7,
     "metadata": {},
     "output_type": "execute_result"
    }
   ],
   "source": [
    "# train.head()"
   ]
  },
  {
   "cell_type": "code",
   "execution_count": 8,
   "metadata": {},
   "outputs": [],
   "source": [
    "relation_dict = {}\n",
    "unique_elements = train.relation.unique()\n",
    "for i in range(len(unique_elements)):\n",
    "    relation_dict[unique_elements[i]] = i \n",
    "    "
   ]
  },
  {
   "cell_type": "code",
   "execution_count": 9,
   "metadata": {},
   "outputs": [],
   "source": [
    "# Compute a label encoding for the classifier\n",
    "def encode_labels(df):\n",
    "    my_list = []\n",
    "    for i in df.relation:\n",
    "        my_list.append(relation_dict[i])\n",
    "    df['relation'] = my_list\n",
    "    return df"
   ]
  },
  {
   "cell_type": "code",
   "execution_count": 10,
   "metadata": {},
   "outputs": [],
   "source": [
    "train = encode_labels(train)\n",
    "dev = encode_labels(dev)\n",
    "test = encode_labels(test)"
   ]
  },
  {
   "cell_type": "code",
   "execution_count": 11,
   "metadata": {},
   "outputs": [],
   "source": [
    "X_train = train[['source', 'relation', 'target']]\n",
    "Y_train = pd.DataFrame(train, columns = ['label'])\n",
    "X_dev = dev[['source', 'relation', 'target']]\n",
    "Y_dev = pd.DataFrame(dev, columns = ['label'])\n",
    "X_test = test[['source', 'relation', 'target']]"
   ]
  },
  {
   "cell_type": "code",
   "execution_count": null,
   "metadata": {},
   "outputs": [],
   "source": [
    "#Perform the RandomForestClassifier\n",
    "clf=RandomForestClassifier(n_estimators=100, bootstrap = True)\n",
    "clf.fit(X_train,Y_train)"
   ]
  },
  {
   "cell_type": "code",
   "execution_count": 64,
   "metadata": {},
   "outputs": [],
   "source": [
    "# Do the prediction for evaluate the model applied\n",
    "y_pred=clf.predict(X_dev)"
   ]
  },
  {
   "cell_type": "code",
   "execution_count": 65,
   "metadata": {},
   "outputs": [
    {
     "name": "stdout",
     "output_type": "stream",
     "text": [
      "Accuracy: 0.7196758452422447\n",
      "f1_score: 0.7197735191637631\n"
     ]
    }
   ],
   "source": [
    "# Model Accuracy, how often is the classifier correct?\n",
    "print(\"Accuracy:\",metrics.accuracy_score(Y_dev, y_pred))\n",
    "print(\"f1_score:\",metrics.f1_score(Y_dev, y_pred))"
   ]
  },
  {
   "cell_type": "markdown",
   "metadata": {},
   "source": [
    "#### Save the results obtained into a file for the submission"
   ]
  },
  {
   "cell_type": "code",
   "execution_count": 66,
   "metadata": {},
   "outputs": [],
   "source": [
    "y_pred=clf.predict(X_test)"
   ]
  },
  {
   "cell_type": "code",
   "execution_count": 67,
   "metadata": {},
   "outputs": [],
   "source": [
    "#create the id field\n",
    "id_column = []\n",
    "for i in range(len(y_pred)):\n",
    "    id_column.append(i+114754)"
   ]
  },
  {
   "cell_type": "code",
   "execution_count": 68,
   "metadata": {},
   "outputs": [
    {
     "name": "stderr",
     "output_type": "stream",
     "text": [
      "<ipython-input-68-990f6d185928>:2: SettingWithCopyWarning: \n",
      "A value is trying to be set on a copy of a slice from a DataFrame.\n",
      "Try using .loc[row_indexer,col_indexer] = value instead\n",
      "\n",
      "See the caveats in the documentation: https://pandas.pydata.org/pandas-docs/stable/user_guide/indexing.html#returning-a-view-versus-a-copy\n",
      "  df['Id'] = id_column\n",
      "<ipython-input-68-990f6d185928>:3: SettingWithCopyWarning: \n",
      "A value is trying to be set on a copy of a slice from a DataFrame.\n",
      "Try using .loc[row_indexer,col_indexer] = value instead\n",
      "\n",
      "See the caveats in the documentation: https://pandas.pydata.org/pandas-docs/stable/user_guide/indexing.html#returning-a-view-versus-a-copy\n",
      "  df['Predicted'] = y_pred\n"
     ]
    }
   ],
   "source": [
    "#rename the columns as requested\n",
    "df = test[['source']]\n",
    "df['Id'] = id_column\n",
    "df['Predicted'] = y_pred\n",
    "df = df[['Id', 'Predicted']]"
   ]
  },
  {
   "cell_type": "code",
   "execution_count": 69,
   "metadata": {},
   "outputs": [],
   "source": [
    "# store the results in a csv\n",
    "with open('./unicredittrainingcamp/' + 'EST_2.csv', 'w') as f:\n",
    "    df.to_csv(f, header=True, index=False )"
   ]
  }
 ],
 "metadata": {
  "kernelspec": {
   "display_name": "Python 3",
   "language": "python",
   "name": "python3"
  },
  "language_info": {
   "codemirror_mode": {
    "name": "ipython",
    "version": 3
   },
   "file_extension": ".py",
   "mimetype": "text/x-python",
   "name": "python",
   "nbconvert_exporter": "python",
   "pygments_lexer": "ipython3",
   "version": "3.9.1"
  }
 },
 "nbformat": 4,
 "nbformat_minor": 4
}
